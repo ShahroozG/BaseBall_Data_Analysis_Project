{
 "cells": [
  {
   "cell_type": "markdown",
   "metadata": {},
   "source": [
    "# Import libraries and loading some tables"
   ]
  },
  {
   "cell_type": "code",
   "execution_count": 92,
   "metadata": {
    "collapsed": false
   },
   "outputs": [],
   "source": [
    "import numpy as np\n",
    "import pandas as pd\n",
    "import seaborn as snb\n",
    "import matplotlib.pyplot as plt\n",
    "\n",
    "%matplotlib inline\n",
    "\n",
    "## Loading tables to work sapce\n",
    "master = pd.read_csv('C:/Users/Shahrooz/Desktop/BaseBall_Analysis_Project/baseballdatabank-master/core/Master.csv')\n",
    "batting = pd.read_csv('C:/Users/Shahrooz/Desktop/BaseBall_Analysis_Project/baseballdatabank-master/core/Batting.csv')\n",
    "pitching = pd.read_csv('C:/Users/Shahrooz/Desktop/BaseBall_Analysis_Project/baseballdatabank-master/core/Pitching.csv')\n",
    "salaries = pd.read_csv('C:/Users/Shahrooz/Desktop/BaseBall_Analysis_Project/baseballdatabank-master/core/Salaries.csv')"
   ]
  },
  {
   "cell_type": "markdown",
   "metadata": {},
   "source": [
    "###### Base on our data, I am focusing on these questions:\n",
    "###### 1. How players salaries is distributed? is it normal or skewd?\n",
    "###### 2. How to measure financial efficiency of teams base on their payroll?\n",
    "###### 3. Who is the most paid palyers in 2015 as a pitcher?\n",
    "###### 4. Which key features of the most paid pitcher is significantly different from other pitchers?\n",
    "###### 5. Who is the most paid palyers in 2015 as a batter?\n",
    "###### 6. Which key features of the most paid batter is significantly different from other batters?\n",
    "###### 7. What is the trend of changing salaries over the time?\n",
    "###### 8. How does number of wins change over time?\n",
    "###### 9. Is there any difference between Batters and Pitchers Salary on average?\n",
    "###### 10. What's the best model for describing wins for each team? Which features are best relate to wins?"
   ]
  },
  {
   "cell_type": "markdown",
   "metadata": {},
   "source": [
    "# 1. Salaries Distribution"
   ]
  },
  {
   "cell_type": "markdown",
   "metadata": {},
   "source": [
    "###### First look at Salaries stats; Because of the salary change over the years, we will focus on years after 2010;"
   ]
  },
  {
   "cell_type": "code",
   "execution_count": 93,
   "metadata": {
    "collapsed": false
   },
   "outputs": [
    {
     "data": {
      "text/plain": [
       "count    4.951000e+03\n",
       "mean     3.671903e+06\n",
       "std      4.909905e+06\n",
       "min      4.000000e+05\n",
       "25%      5.040000e+05\n",
       "50%      1.300000e+06\n",
       "75%      5.000000e+06\n",
       "max      3.300000e+07\n",
       "Name: salary, dtype: float64"
      ]
     },
     "execution_count": 93,
     "metadata": {},
     "output_type": "execute_result"
    }
   ],
   "source": [
    "salaries_after_2010 = salaries[salaries['yearID'] >= 2010]\n",
    "salaries_after_2010['salary'].describe()"
   ]
  },
  {
   "cell_type": "markdown",
   "metadata": {},
   "source": [
    "###### Looking at salaries histogram from 1985 to 2015"
   ]
  },
  {
   "cell_type": "code",
   "execution_count": 94,
   "metadata": {
    "collapsed": false
   },
   "outputs": [
    {
     "data": {
      "text/plain": [
       "<matplotlib.text.Text at 0xe5f9c30>"
      ]
     },
     "execution_count": 94,
     "metadata": {},
     "output_type": "execute_result"
    },
    {
     "data": {
      "image/png": "[encoded data removed]",
      "text/plain": [
       "<matplotlib.figure.Figure at 0xe5d2cd0>"
      ]
     },
     "metadata": {},
     "output_type": "display_data"
    }
   ],
   "source": [
    "fig2 = plt.figure()\n",
    "salaries['salary'].plot.hist()\n",
    "fig2.suptitle('Salries distribution 1985-2015', fontsize=20)\n",
    "plt.xlabel('Salary', fontsize=14)\n",
    "plt.ylabel('Frequency', fontsize=14)"
   ]
  },
  {
   "cell_type": "markdown",
   "metadata": {},
   "source": [
    "###### It seems like the salaries are very skewed, for making sure that the result is correct, we will look at the latest 5 years:"
   ]
  },
  {
   "cell_type": "code",
   "execution_count": 95,
   "metadata": {
    "collapsed": false
   },
   "outputs": [
    {
     "data": {
      "text/plain": [
       "<matplotlib.text.Text at 0xb545b50>"
      ]
     },
     "execution_count": 95,
     "metadata": {},
     "output_type": "execute_result"
    },
    {
     "data": {
      "image/png": "[encoded data removed]",
      "text/plain": [
       "<matplotlib.figure.Figure at 0xe5eee90>"
      ]
     },
     "metadata": {},
     "output_type": "display_data"
    }
   ],
   "source": [
    "fig3 = plt.figure()\n",
    "salaries_after_2010['salary'].plot.hist()\n",
    "fig3.suptitle('Salries distribution 2010-2015', fontsize=20)\n",
    "plt.xlabel('Salary', fontsize=14)\n",
    "plt.ylabel('Frequency', fontsize=14)"
   ]
  },
  {
   "cell_type": "markdown",
   "metadata": {},
   "source": [
    "###### For measuring the skewness of salary, I will use Pearson's second skewness coefficient (median skewness):"
   ]
  },
  {
   "cell_type": "code",
   "execution_count": 96,
   "metadata": {
    "collapsed": false
   },
   "outputs": [
    {
     "name": "stdout",
     "output_type": "stream",
     "text": [
      "Yearly Salaries median Skewness is : 1.39159693472\n"
     ]
    }
   ],
   "source": [
    "yearly_mean = salaries.groupby('yearID').mean()\n",
    "yearly_median = salaries.groupby('yearID').median()\n",
    "yearly_std = salaries.groupby('yearID').std()\n",
    "meadian_skewness = 3 * (yearly_mean - yearly_median)/ yearly_std\n",
    "print 'Yearly Salaries median Skewness is :', meadian_skewness['salary'].mean()"
   ]
  },
  {
   "cell_type": "markdown",
   "metadata": {},
   "source": [
    "#### It means that Salaries are Positively Skewed. Because the median skewness is positive."
   ]
  },
  {
   "cell_type": "markdown",
   "metadata": {},
   "source": [
    "# 2. Teams Payroll vs. number of their Wins\n",
    "##### What is the ratio of wins to total payroll of each team in each year?"
   ]
  },
  {
   "cell_type": "code",
   "execution_count": 97,
   "metadata": {
    "collapsed": false
   },
   "outputs": [],
   "source": [
    "teams = pd.read_csv('C:/Users/Shahrooz/Desktop/BaseBall_Analysis_Project/baseballdatabank-master/core/Teams.csv')\n",
    "teams_after_1985 = teams[teams['yearID']>= 1985]\n",
    "teams_after_1985 = teams_after_1985[['yearID', 'teamID', 'Rank', 'R', 'RA', 'G', 'W', 'L', 'H', 'BB', 'HBP', 'AB', 'SF', 'HR', '2B', '3B']]\n",
    "teams_after_1985 = teams_after_1985.set_index(['yearID','teamID'])\n",
    "salaries_yearID_teamID = salaries.groupby(['yearID', 'teamID'])['salary'].sum()\n",
    "teams_after_1985 = teams_after_1985.join(salaries_yearID_teamID)"
   ]
  },
  {
   "cell_type": "markdown",
   "metadata": {},
   "source": [
    "###### For having an idea of how payroll relates to number of wins, look at this scatter plot:"
   ]
  },
  {
   "cell_type": "code",
   "execution_count": 98,
   "metadata": {
    "collapsed": false
   },
   "outputs": [
    {
     "data": {
      "text/plain": [
       "<matplotlib.text.Text at 0xb39fd70>"
      ]
     },
     "execution_count": 98,
     "metadata": {},
     "output_type": "execute_result"
    },
    {
     "data": {
      "image/png": "[encoded data removed]",
      "text/plain": [
       "<matplotlib.figure.Figure at 0x13cc2a10>"
      ]
     },
     "metadata": {},
     "output_type": "display_data"
    }
   ],
   "source": [
    "fig = plt.figure()\n",
    "plt.scatter(teams_after_1985['salary'], teams_after_1985['W'])\n",
    "fig.suptitle('Payroll Vs. Wins', fontsize=20)\n",
    "plt.xlabel('Payroll', fontsize=14)\n",
    "plt.ylabel('Wins', fontsize=14)"
   ]
  },
  {
   "cell_type": "markdown",
   "metadata": {},
   "source": [
    "###### For measuring financial efficiency for teams, we need a criteria. So I defined the ratio of number of Wins to total Payroll and multiply it to 1e6 to have more reasonable numbers. "
   ]
  },
  {
   "cell_type": "code",
   "execution_count": 99,
   "metadata": {
    "collapsed": false
   },
   "outputs": [
    {
     "data": {
      "text/plain": [
       "2000    (MIN, 4.17688186688)\n",
       "2001    (MIN, 3.52258599254)\n",
       "2002    (OAK, 2.57473177732)\n",
       "2003    (TBA, 3.20937340805)\n",
       "2004    (MIL, 2.43384129175)\n",
       "2005    (TBA, 2.25748336361)\n",
       "2006     (FLO, 5.3164298129)\n",
       "2007    (TBA, 2.73592140444)\n",
       "2008     (FLO, 3.8511794237)\n",
       "2009    (FLO, 2.36194820003)\n",
       "2010    (SDN, 2.38099647348)\n",
       "2011    (TBA, 2.21661594311)\n",
       "2012    (OAK, 1.69759357082)\n",
       "2013    (HOU, 2.85064307154)\n",
       "2014    (HOU, 1.99337629534)\n",
       "2015    (ARI, 1.27761425753)\n",
       "dtype: object"
      ]
     },
     "execution_count": 99,
     "metadata": {},
     "output_type": "execute_result"
    }
   ],
   "source": [
    "# defining a function base on a measure for comparing teams base on Payroll and Wins for a year\n",
    "def most_efficient_team(year):\n",
    "    team_efficiency = (teams_after_1985['W']/teams_after_1985['salary']) * 10**6\n",
    "    return (team_efficiency[year].argmax(), team_efficiency[year].loc[team_efficiency[year].argmax()])\n",
    "\n",
    "result = pd.Series()\n",
    "for i in range(2000, 2016):\n",
    "    result = result.append(pd.Series([most_efficient_team(i)], index = [i]))\n",
    "\n",
    "result"
   ]
  },
  {
   "cell_type": "markdown",
   "metadata": {},
   "source": [
    "###### Base on the above results, we can find out which teams are the most efficient in each year, reffer to their total payroll and number of wins they have in that year. As we see in year 2002 the Oaklans A's is the most efficient team; It was in the Billy Beane era and starting using analysis for recrutement. In 2002, the Athletics became the first team in the 100 plus years of American League baseball to win 20 consecutive games. The nice point is that they got this record with a very low payroll."
   ]
  },
  {
   "cell_type": "markdown",
   "metadata": {},
   "source": [
    "# 3. The most paid Pitcher in 2015"
   ]
  },
  {
   "cell_type": "markdown",
   "metadata": {},
   "source": [
    "###### Because I want to find out the most salary paid to pitchers, I should add salary column to pitching table. And We have salaries after 1985, so we should slice pitching table only for after that year. Here is the merge result:"
   ]
  },
  {
   "cell_type": "code",
   "execution_count": 100,
   "metadata": {
    "collapsed": false
   },
   "outputs": [
    {
     "data": {
      "text/html": [
       "<div>\n",
       "<table border=\"1\" class=\"dataframe\">\n",
       "  <thead>\n",
       "    <tr style=\"text-align: right;\">\n",
       "      <th></th>\n",
       "      <th>playerID</th>\n",
       "      <th>yearID</th>\n",
       "      <th>stint</th>\n",
       "      <th>teamID</th>\n",
       "      <th>lgID</th>\n",
       "      <th>W</th>\n",
       "      <th>L</th>\n",
       "      <th>G</th>\n",
       "      <th>GS</th>\n",
       "      <th>CG</th>\n",
       "      <th>SHO</th>\n",
       "      <th>SV</th>\n",
       "      <th>IPouts</th>\n",
       "      <th>H</th>\n",
       "      <th>ER</th>\n",
       "      <th>HR</th>\n",
       "      <th>BB</th>\n",
       "      <th>SO</th>\n",
       "      <th>BAOpp</th>\n",
       "      <th>ERA</th>\n",
       "      <th>IBB</th>\n",
       "      <th>WP</th>\n",
       "      <th>HBP</th>\n",
       "      <th>BK</th>\n",
       "      <th>BFP</th>\n",
       "      <th>GF</th>\n",
       "      <th>R</th>\n",
       "      <th>SH</th>\n",
       "      <th>SF</th>\n",
       "      <th>GIDP</th>\n",
       "      <th>salary</th>\n",
       "    </tr>\n",
       "  </thead>\n",
       "  <tbody>\n",
       "    <tr>\n",
       "      <th>0</th>\n",
       "      <td>aasedo01</td>\n",
       "      <td>1985</td>\n",
       "      <td>1</td>\n",
       "      <td>BAL</td>\n",
       "      <td>AL</td>\n",
       "      <td>10</td>\n",
       "      <td>6</td>\n",
       "      <td>54</td>\n",
       "      <td>0</td>\n",
       "      <td>0</td>\n",
       "      <td>0</td>\n",
       "      <td>14</td>\n",
       "      <td>264.0</td>\n",
       "      <td>83</td>\n",
       "      <td>37</td>\n",
       "      <td>6</td>\n",
       "      <td>35</td>\n",
       "      <td>67</td>\n",
       "      <td>0.25</td>\n",
       "      <td>3.78</td>\n",
       "      <td>7.0</td>\n",
       "      <td>0.0</td>\n",
       "      <td>1.0</td>\n",
       "      <td>1</td>\n",
       "      <td>366.0</td>\n",
       "      <td>43.0</td>\n",
       "      <td>44</td>\n",
       "      <td>NaN</td>\n",
       "      <td>NaN</td>\n",
       "      <td>NaN</td>\n",
       "      <td>NaN</td>\n",
       "    </tr>\n",
       "    <tr>\n",
       "      <th>1</th>\n",
       "      <td>abregjo01</td>\n",
       "      <td>1985</td>\n",
       "      <td>1</td>\n",
       "      <td>CHN</td>\n",
       "      <td>NL</td>\n",
       "      <td>1</td>\n",
       "      <td>1</td>\n",
       "      <td>6</td>\n",
       "      <td>5</td>\n",
       "      <td>0</td>\n",
       "      <td>0</td>\n",
       "      <td>0</td>\n",
       "      <td>72.0</td>\n",
       "      <td>32</td>\n",
       "      <td>17</td>\n",
       "      <td>3</td>\n",
       "      <td>12</td>\n",
       "      <td>13</td>\n",
       "      <td>0.35</td>\n",
       "      <td>6.38</td>\n",
       "      <td>1.0</td>\n",
       "      <td>0.0</td>\n",
       "      <td>0.0</td>\n",
       "      <td>0</td>\n",
       "      <td>109.0</td>\n",
       "      <td>0.0</td>\n",
       "      <td>18</td>\n",
       "      <td>NaN</td>\n",
       "      <td>NaN</td>\n",
       "      <td>NaN</td>\n",
       "      <td>NaN</td>\n",
       "    </tr>\n",
       "    <tr>\n",
       "      <th>2</th>\n",
       "      <td>ackerji01</td>\n",
       "      <td>1985</td>\n",
       "      <td>1</td>\n",
       "      <td>TOR</td>\n",
       "      <td>AL</td>\n",
       "      <td>7</td>\n",
       "      <td>2</td>\n",
       "      <td>61</td>\n",
       "      <td>0</td>\n",
       "      <td>0</td>\n",
       "      <td>0</td>\n",
       "      <td>10</td>\n",
       "      <td>259.0</td>\n",
       "      <td>86</td>\n",
       "      <td>31</td>\n",
       "      <td>7</td>\n",
       "      <td>43</td>\n",
       "      <td>42</td>\n",
       "      <td>0.26</td>\n",
       "      <td>3.23</td>\n",
       "      <td>1.0</td>\n",
       "      <td>2.0</td>\n",
       "      <td>3.0</td>\n",
       "      <td>0</td>\n",
       "      <td>370.0</td>\n",
       "      <td>26.0</td>\n",
       "      <td>35</td>\n",
       "      <td>NaN</td>\n",
       "      <td>NaN</td>\n",
       "      <td>NaN</td>\n",
       "      <td>170000.0</td>\n",
       "    </tr>\n",
       "    <tr>\n",
       "      <th>3</th>\n",
       "      <td>agostju01</td>\n",
       "      <td>1985</td>\n",
       "      <td>1</td>\n",
       "      <td>CHA</td>\n",
       "      <td>AL</td>\n",
       "      <td>4</td>\n",
       "      <td>3</td>\n",
       "      <td>54</td>\n",
       "      <td>0</td>\n",
       "      <td>0</td>\n",
       "      <td>0</td>\n",
       "      <td>1</td>\n",
       "      <td>181.0</td>\n",
       "      <td>45</td>\n",
       "      <td>24</td>\n",
       "      <td>3</td>\n",
       "      <td>23</td>\n",
       "      <td>39</td>\n",
       "      <td>0.21</td>\n",
       "      <td>3.58</td>\n",
       "      <td>1.0</td>\n",
       "      <td>0.0</td>\n",
       "      <td>3.0</td>\n",
       "      <td>0</td>\n",
       "      <td>246.0</td>\n",
       "      <td>21.0</td>\n",
       "      <td>27</td>\n",
       "      <td>NaN</td>\n",
       "      <td>NaN</td>\n",
       "      <td>NaN</td>\n",
       "      <td>147500.0</td>\n",
       "    </tr>\n",
       "    <tr>\n",
       "      <th>4</th>\n",
       "      <td>aguilri01</td>\n",
       "      <td>1985</td>\n",
       "      <td>1</td>\n",
       "      <td>NYN</td>\n",
       "      <td>NL</td>\n",
       "      <td>10</td>\n",
       "      <td>7</td>\n",
       "      <td>21</td>\n",
       "      <td>19</td>\n",
       "      <td>2</td>\n",
       "      <td>0</td>\n",
       "      <td>0</td>\n",
       "      <td>367.0</td>\n",
       "      <td>118</td>\n",
       "      <td>44</td>\n",
       "      <td>8</td>\n",
       "      <td>37</td>\n",
       "      <td>74</td>\n",
       "      <td>0.25</td>\n",
       "      <td>3.24</td>\n",
       "      <td>2.0</td>\n",
       "      <td>5.0</td>\n",
       "      <td>2.0</td>\n",
       "      <td>2</td>\n",
       "      <td>507.0</td>\n",
       "      <td>1.0</td>\n",
       "      <td>49</td>\n",
       "      <td>NaN</td>\n",
       "      <td>NaN</td>\n",
       "      <td>NaN</td>\n",
       "      <td>NaN</td>\n",
       "    </tr>\n",
       "  </tbody>\n",
       "</table>\n",
       "</div>"
      ],
      "text/plain": [
       "    playerID  yearID  stint teamID lgID   W  L   G  GS  CG  SHO  SV  IPouts  \\\n",
       "0   aasedo01    1985      1    BAL   AL  10  6  54   0   0    0  14   264.0   \n",
       "1  abregjo01    1985      1    CHN   NL   1  1   6   5   0    0   0    72.0   \n",
       "2  ackerji01    1985      1    TOR   AL   7  2  61   0   0    0  10   259.0   \n",
       "3  agostju01    1985      1    CHA   AL   4  3  54   0   0    0   1   181.0   \n",
       "4  aguilri01    1985      1    NYN   NL  10  7  21  19   2    0   0   367.0   \n",
       "\n",
       "     H  ER  HR  BB  SO  BAOpp   ERA  IBB   WP  HBP  BK    BFP    GF   R  SH  \\\n",
       "0   83  37   6  35  67   0.25  3.78  7.0  0.0  1.0   1  366.0  43.0  44 NaN   \n",
       "1   32  17   3  12  13   0.35  6.38  1.0  0.0  0.0   0  109.0   0.0  18 NaN   \n",
       "2   86  31   7  43  42   0.26  3.23  1.0  2.0  3.0   0  370.0  26.0  35 NaN   \n",
       "3   45  24   3  23  39   0.21  3.58  1.0  0.0  3.0   0  246.0  21.0  27 NaN   \n",
       "4  118  44   8  37  74   0.25  3.24  2.0  5.0  2.0   2  507.0   1.0  49 NaN   \n",
       "\n",
       "   SF  GIDP    salary  \n",
       "0 NaN   NaN       NaN  \n",
       "1 NaN   NaN       NaN  \n",
       "2 NaN   NaN  170000.0  \n",
       "3 NaN   NaN  147500.0  \n",
       "4 NaN   NaN       NaN  "
      ]
     },
     "execution_count": 100,
     "metadata": {},
     "output_type": "execute_result"
    }
   ],
   "source": [
    "# slicing data on years after 1985\n",
    "pitching = pitching[pitching['yearID'] >= 1985]\n",
    "# claiming keys I want two tables merge on them;\n",
    "pitching_salary = pitching.merge(salaries, on = ['yearID', 'playerID', 'teamID', 'lgID'], how = 'left')\n",
    "pitching_salary.head()"
   ]
  },
  {
   "cell_type": "code",
   "execution_count": 101,
   "metadata": {
    "collapsed": false
   },
   "outputs": [
    {
     "data": {
      "text/plain": [
       "playerID     kershcl01\n",
       "yearID            2015\n",
       "stint                1\n",
       "teamID             LAN\n",
       "lgID                NL\n",
       "W                   16\n",
       "L                    7\n",
       "G                   33\n",
       "GS                  33\n",
       "CG                   4\n",
       "SHO                  3\n",
       "SV                   0\n",
       "IPouts             698\n",
       "H                  163\n",
       "ER                  55\n",
       "HR                  15\n",
       "BB                  42\n",
       "SO                 301\n",
       "BAOpp            0.194\n",
       "ERA               2.13\n",
       "IBB                  1\n",
       "WP                   9\n",
       "HBP                  5\n",
       "BK                   3\n",
       "BFP                890\n",
       "GF                   0\n",
       "R                   62\n",
       "SH                   4\n",
       "SF                   0\n",
       "GIDP               NaN\n",
       "salary      3.2571e+07\n",
       "Name: 18743, dtype: object"
      ]
     },
     "execution_count": 101,
     "metadata": {},
     "output_type": "execute_result"
    }
   ],
   "source": [
    "max_pitching_salary_index = pitching_salary['salary'].argmax()\n",
    "max_pitch_playerID = pitching_salary['playerID'].loc[max_pitching_salary_index]\n",
    "pitching_salary.loc[max_pitching_salary_index]"
   ]
  },
  {
   "cell_type": "markdown",
   "metadata": {},
   "source": [
    "###### First and Last name of the most paid Pitcher in 2015:"
   ]
  },
  {
   "cell_type": "code",
   "execution_count": 102,
   "metadata": {
    "collapsed": false
   },
   "outputs": [
    {
     "data": {
      "text/html": [
       "<div>\n",
       "<table border=\"1\" class=\"dataframe\">\n",
       "  <thead>\n",
       "    <tr style=\"text-align: right;\">\n",
       "      <th></th>\n",
       "      <th>nameFirst</th>\n",
       "      <th>nameLast</th>\n",
       "    </tr>\n",
       "  </thead>\n",
       "  <tbody>\n",
       "    <tr>\n",
       "      <th>8937</th>\n",
       "      <td>Clayton</td>\n",
       "      <td>Kershaw</td>\n",
       "    </tr>\n",
       "  </tbody>\n",
       "</table>\n",
       "</div>"
      ],
      "text/plain": [
       "     nameFirst nameLast\n",
       "8937   Clayton  Kershaw"
      ]
     },
     "execution_count": 102,
     "metadata": {},
     "output_type": "execute_result"
    }
   ],
   "source": [
    "master[master['playerID'] == max_pitch_playerID][['nameFirst', 'nameLast']]"
   ]
  },
  {
   "cell_type": "markdown",
   "metadata": {},
   "source": [
    "# 4. Key Characteristics of the Most paid Pitcher"
   ]
  },
  {
   "cell_type": "markdown",
   "metadata": {},
   "source": [
    "###### For the most paid pitcher, I want to see what characteristics are significantly different from other pitchers. For this reason we need to calculate the Z-Value for all featurs and find out which of them are more than 3. It means these variables are 3 Standard deviation times more than mean in each column."
   ]
  },
  {
   "cell_type": "markdown",
   "metadata": {},
   "source": [
    "###### Defining functions to calculate Z-Value for numeric columns in a dataframe."
   ]
  },
  {
   "cell_type": "code",
   "execution_count": 103,
   "metadata": {
    "collapsed": true
   },
   "outputs": [],
   "source": [
    "def z_value_column(data):\n",
    "    return (data-data.mean())/data.std(ddof = 0)\n",
    "\n",
    "def z_value_df(df):\n",
    "    # in our 2 major dataframes(pitching and batting) all numeric values start from 5th column\n",
    "    newdf = df[df.columns[5:]]\n",
    "    return newdf.apply(z_value_column)"
   ]
  },
  {
   "cell_type": "code",
   "execution_count": 104,
   "metadata": {
    "collapsed": false
   },
   "outputs": [
    {
     "data": {
      "text/html": [
       "<div>\n",
       "<table border=\"1\" class=\"dataframe\">\n",
       "  <thead>\n",
       "    <tr style=\"text-align: right;\">\n",
       "      <th></th>\n",
       "      <th>W</th>\n",
       "      <th>L</th>\n",
       "      <th>G</th>\n",
       "      <th>GS</th>\n",
       "      <th>CG</th>\n",
       "      <th>SHO</th>\n",
       "      <th>SV</th>\n",
       "      <th>IPouts</th>\n",
       "      <th>H</th>\n",
       "      <th>ER</th>\n",
       "      <th>HR</th>\n",
       "      <th>BB</th>\n",
       "      <th>SO</th>\n",
       "      <th>BAOpp</th>\n",
       "      <th>ERA</th>\n",
       "      <th>IBB</th>\n",
       "      <th>WP</th>\n",
       "      <th>HBP</th>\n",
       "      <th>BK</th>\n",
       "      <th>BFP</th>\n",
       "      <th>GF</th>\n",
       "      <th>R</th>\n",
       "      <th>SH</th>\n",
       "      <th>SF</th>\n",
       "      <th>GIDP</th>\n",
       "      <th>salary</th>\n",
       "    </tr>\n",
       "  </thead>\n",
       "  <tbody>\n",
       "    <tr>\n",
       "      <th>14765</th>\n",
       "      <td>-0.791811</td>\n",
       "      <td>0.727129</td>\n",
       "      <td>1.262863</td>\n",
       "      <td>-0.617172</td>\n",
       "      <td>-0.271084</td>\n",
       "      <td>-0.231219</td>\n",
       "      <td>4.393969</td>\n",
       "      <td>-0.162335</td>\n",
       "      <td>-0.421766</td>\n",
       "      <td>-0.268484</td>\n",
       "      <td>-0.194836</td>\n",
       "      <td>0.260875</td>\n",
       "      <td>-0.006724</td>\n",
       "      <td>-0.809072</td>\n",
       "      <td>-0.277227</td>\n",
       "      <td>2.008493</td>\n",
       "      <td>-0.097742</td>\n",
       "      <td>-0.051827</td>\n",
       "      <td>-0.389058</td>\n",
       "      <td>-0.200315</td>\n",
       "      <td>3.416471</td>\n",
       "      <td>-0.326997</td>\n",
       "      <td>1.975745</td>\n",
       "      <td>-0.352353</td>\n",
       "      <td>NaN</td>\n",
       "      <td>-0.130422</td>\n",
       "    </tr>\n",
       "    <tr>\n",
       "      <th>14766</th>\n",
       "      <td>-0.791811</td>\n",
       "      <td>-0.628409</td>\n",
       "      <td>-0.201321</td>\n",
       "      <td>-0.617172</td>\n",
       "      <td>-0.271084</td>\n",
       "      <td>-0.231219</td>\n",
       "      <td>-0.257115</td>\n",
       "      <td>-0.674777</td>\n",
       "      <td>-0.748779</td>\n",
       "      <td>-0.770706</td>\n",
       "      <td>-0.485781</td>\n",
       "      <td>-0.799909</td>\n",
       "      <td>-0.730173</td>\n",
       "      <td>-0.784593</td>\n",
       "      <td>-0.381921</td>\n",
       "      <td>-0.835815</td>\n",
       "      <td>-0.828147</td>\n",
       "      <td>-0.809485</td>\n",
       "      <td>-0.389058</td>\n",
       "      <td>-0.704834</td>\n",
       "      <td>-0.042164</td>\n",
       "      <td>-0.790374</td>\n",
       "      <td>-0.768811</td>\n",
       "      <td>-0.352353</td>\n",
       "      <td>NaN</td>\n",
       "      <td>NaN</td>\n",
       "    </tr>\n",
       "    <tr>\n",
       "      <th>14767</th>\n",
       "      <td>-0.791811</td>\n",
       "      <td>-0.628409</td>\n",
       "      <td>-1.004260</td>\n",
       "      <td>-0.617172</td>\n",
       "      <td>-0.271084</td>\n",
       "      <td>-0.231219</td>\n",
       "      <td>-0.257115</td>\n",
       "      <td>-0.880868</td>\n",
       "      <td>-0.783202</td>\n",
       "      <td>-0.770706</td>\n",
       "      <td>-0.922199</td>\n",
       "      <td>-0.905988</td>\n",
       "      <td>-0.906147</td>\n",
       "      <td>1.663227</td>\n",
       "      <td>0.535902</td>\n",
       "      <td>-0.835815</td>\n",
       "      <td>-0.097742</td>\n",
       "      <td>-0.430656</td>\n",
       "      <td>-0.389058</td>\n",
       "      <td>-0.873008</td>\n",
       "      <td>-0.416071</td>\n",
       "      <td>-0.790374</td>\n",
       "      <td>-0.768811</td>\n",
       "      <td>-0.846683</td>\n",
       "      <td>NaN</td>\n",
       "      <td>-0.499361</td>\n",
       "    </tr>\n",
       "    <tr>\n",
       "      <th>14768</th>\n",
       "      <td>-0.075874</td>\n",
       "      <td>-0.899517</td>\n",
       "      <td>-0.768102</td>\n",
       "      <td>-0.617172</td>\n",
       "      <td>-0.271084</td>\n",
       "      <td>-0.231219</td>\n",
       "      <td>-0.107080</td>\n",
       "      <td>-0.791748</td>\n",
       "      <td>-0.817624</td>\n",
       "      <td>-0.847971</td>\n",
       "      <td>-0.776727</td>\n",
       "      <td>-0.852948</td>\n",
       "      <td>-0.925699</td>\n",
       "      <td>-0.686681</td>\n",
       "      <td>-0.354003</td>\n",
       "      <td>-0.266953</td>\n",
       "      <td>-0.828147</td>\n",
       "      <td>-0.430656</td>\n",
       "      <td>-0.389058</td>\n",
       "      <td>-0.796929</td>\n",
       "      <td>-0.416071</td>\n",
       "      <td>-0.826018</td>\n",
       "      <td>-0.768811</td>\n",
       "      <td>-0.846683</td>\n",
       "      <td>NaN</td>\n",
       "      <td>-0.641711</td>\n",
       "    </tr>\n",
       "    <tr>\n",
       "      <th>14769</th>\n",
       "      <td>-0.075874</td>\n",
       "      <td>-0.357302</td>\n",
       "      <td>0.696082</td>\n",
       "      <td>-0.617172</td>\n",
       "      <td>-0.271084</td>\n",
       "      <td>-0.231219</td>\n",
       "      <td>-0.107080</td>\n",
       "      <td>-0.329435</td>\n",
       "      <td>-0.473399</td>\n",
       "      <td>-0.500279</td>\n",
       "      <td>-0.340308</td>\n",
       "      <td>-0.110400</td>\n",
       "      <td>-0.143592</td>\n",
       "      <td>-0.552050</td>\n",
       "      <td>-0.362727</td>\n",
       "      <td>-0.266953</td>\n",
       "      <td>0.267460</td>\n",
       "      <td>-0.809485</td>\n",
       "      <td>-0.389058</td>\n",
       "      <td>-0.380500</td>\n",
       "      <td>0.518695</td>\n",
       "      <td>-0.540863</td>\n",
       "      <td>-0.376732</td>\n",
       "      <td>-0.352353</td>\n",
       "      <td>NaN</td>\n",
       "      <td>NaN</td>\n",
       "    </tr>\n",
       "  </tbody>\n",
       "</table>\n",
       "</div>"
      ],
      "text/plain": [
       "              W         L         G        GS        CG       SHO        SV  \\\n",
       "14765 -0.791811  0.727129  1.262863 -0.617172 -0.271084 -0.231219  4.393969   \n",
       "14766 -0.791811 -0.628409 -0.201321 -0.617172 -0.271084 -0.231219 -0.257115   \n",
       "14767 -0.791811 -0.628409 -1.004260 -0.617172 -0.271084 -0.231219 -0.257115   \n",
       "14768 -0.075874 -0.899517 -0.768102 -0.617172 -0.271084 -0.231219 -0.107080   \n",
       "14769 -0.075874 -0.357302  0.696082 -0.617172 -0.271084 -0.231219 -0.107080   \n",
       "\n",
       "         IPouts         H        ER        HR        BB        SO     BAOpp  \\\n",
       "14765 -0.162335 -0.421766 -0.268484 -0.194836  0.260875 -0.006724 -0.809072   \n",
       "14766 -0.674777 -0.748779 -0.770706 -0.485781 -0.799909 -0.730173 -0.784593   \n",
       "14767 -0.880868 -0.783202 -0.770706 -0.922199 -0.905988 -0.906147  1.663227   \n",
       "14768 -0.791748 -0.817624 -0.847971 -0.776727 -0.852948 -0.925699 -0.686681   \n",
       "14769 -0.329435 -0.473399 -0.500279 -0.340308 -0.110400 -0.143592 -0.552050   \n",
       "\n",
       "            ERA       IBB        WP       HBP        BK       BFP        GF  \\\n",
       "14765 -0.277227  2.008493 -0.097742 -0.051827 -0.389058 -0.200315  3.416471   \n",
       "14766 -0.381921 -0.835815 -0.828147 -0.809485 -0.389058 -0.704834 -0.042164   \n",
       "14767  0.535902 -0.835815 -0.097742 -0.430656 -0.389058 -0.873008 -0.416071   \n",
       "14768 -0.354003 -0.266953 -0.828147 -0.430656 -0.389058 -0.796929 -0.416071   \n",
       "14769 -0.362727 -0.266953  0.267460 -0.809485 -0.389058 -0.380500  0.518695   \n",
       "\n",
       "              R        SH        SF  GIDP    salary  \n",
       "14765 -0.326997  1.975745 -0.352353   NaN -0.130422  \n",
       "14766 -0.790374 -0.768811 -0.352353   NaN       NaN  \n",
       "14767 -0.790374 -0.768811 -0.846683   NaN -0.499361  \n",
       "14768 -0.826018 -0.768811 -0.846683   NaN -0.641711  \n",
       "14769 -0.540863 -0.376732 -0.352353   NaN       NaN  "
      ]
     },
     "execution_count": 104,
     "metadata": {},
     "output_type": "execute_result"
    }
   ],
   "source": [
    "pitching_after_2010 = pitching_salary[pitching_salary['yearID'] >= 2010]\n",
    "z_val_pitching = z_value_df(pitching_after_2010)\n",
    "z_val_pitching.head()"
   ]
  },
  {
   "cell_type": "code",
   "execution_count": 105,
   "metadata": {
    "collapsed": true
   },
   "outputs": [],
   "source": [
    "# For having year and player ID (the non numeric columns) we need to slice the original dataframe\n",
    "year_player_pitch = pitching_after_2010.loc[:,['yearID', 'playerID']]\n",
    "\n",
    "# concatinating the result of z-value dataframe and year and player ID dataframe column-wise\n",
    "objs = [year_player_pitch, z_val_pitching]\n",
    "z_val_pitching = pd.concat(objs, axis = 1)"
   ]
  },
  {
   "cell_type": "code",
   "execution_count": 106,
   "metadata": {
    "collapsed": false
   },
   "outputs": [
    {
     "data": {
      "text/html": [
       "<div>\n",
       "<table border=\"1\" class=\"dataframe\">\n",
       "  <thead>\n",
       "    <tr style=\"text-align: right;\">\n",
       "      <th></th>\n",
       "      <th>yearID</th>\n",
       "      <th>playerID</th>\n",
       "      <th>W</th>\n",
       "      <th>L</th>\n",
       "      <th>G</th>\n",
       "      <th>GS</th>\n",
       "      <th>CG</th>\n",
       "      <th>SHO</th>\n",
       "      <th>SV</th>\n",
       "      <th>IPouts</th>\n",
       "      <th>H</th>\n",
       "      <th>ER</th>\n",
       "      <th>HR</th>\n",
       "      <th>BB</th>\n",
       "      <th>SO</th>\n",
       "      <th>BAOpp</th>\n",
       "      <th>ERA</th>\n",
       "      <th>IBB</th>\n",
       "      <th>WP</th>\n",
       "      <th>HBP</th>\n",
       "      <th>BK</th>\n",
       "      <th>BFP</th>\n",
       "      <th>GF</th>\n",
       "      <th>R</th>\n",
       "      <th>SH</th>\n",
       "      <th>SF</th>\n",
       "      <th>GIDP</th>\n",
       "      <th>salary</th>\n",
       "    </tr>\n",
       "  </thead>\n",
       "  <tbody>\n",
       "    <tr>\n",
       "      <th>18743</th>\n",
       "      <td>2015</td>\n",
       "      <td>kershcl01</td>\n",
       "      <td>3.026524</td>\n",
       "      <td>0.998236</td>\n",
       "      <td>0.318228</td>\n",
       "      <td>2.45201</td>\n",
       "      <td>5.596618</td>\n",
       "      <td>7.874959</td>\n",
       "      <td>-0.257115</td>\n",
       "      <td>2.895609</td>\n",
       "      <td>1.815696</td>\n",
       "      <td>1.122284</td>\n",
       "      <td>1.259892</td>\n",
       "      <td>1.162541</td>\n",
       "      <td>4.92055</td>\n",
       "      <td>-0.858028</td>\n",
       "      <td>-0.50581</td>\n",
       "      <td>-0.266953</td>\n",
       "      <td>2.458675</td>\n",
       "      <td>1.08466</td>\n",
       "      <td>5.228206</td>\n",
       "      <td>2.554523</td>\n",
       "      <td>-0.603024</td>\n",
       "      <td>1.205711</td>\n",
       "      <td>0.799507</td>\n",
       "      <td>-0.846683</td>\n",
       "      <td>NaN</td>\n",
       "      <td>6.457672</td>\n",
       "    </tr>\n",
       "  </tbody>\n",
       "</table>\n",
       "</div>"
      ],
      "text/plain": [
       "       yearID   playerID         W         L         G       GS        CG  \\\n",
       "18743    2015  kershcl01  3.026524  0.998236  0.318228  2.45201  5.596618   \n",
       "\n",
       "            SHO        SV    IPouts         H        ER        HR        BB  \\\n",
       "18743  7.874959 -0.257115  2.895609  1.815696  1.122284  1.259892  1.162541   \n",
       "\n",
       "            SO     BAOpp      ERA       IBB        WP      HBP        BK  \\\n",
       "18743  4.92055 -0.858028 -0.50581 -0.266953  2.458675  1.08466  5.228206   \n",
       "\n",
       "            BFP        GF         R        SH        SF  GIDP    salary  \n",
       "18743  2.554523 -0.603024  1.205711  0.799507 -0.846683   NaN  6.457672  "
      ]
     },
     "execution_count": 106,
     "metadata": {},
     "output_type": "execute_result"
    }
   ],
   "source": [
    "pitch_result = z_val_pitching[(z_val_pitching['playerID'] == max_pitch_playerID) & (z_val_pitching['yearID'] == 2015)]\n",
    "# I want to see all columns in the screen and avoid ellipses\n",
    "pd.set_option('display.max_columns', 100)\n",
    "pitch_result"
   ]
  },
  {
   "cell_type": "markdown",
   "metadata": {},
   "source": [
    "###### Base on above Z-Scores, the most paid pitcher has big Z-scores on : \n",
    "### SHO, CG, BK, SO, W;"
   ]
  },
  {
   "cell_type": "markdown",
   "metadata": {
    "collapsed": true
   },
   "source": [
    "# 5. The Most paid Batter in 2015"
   ]
  },
  {
   "cell_type": "markdown",
   "metadata": {},
   "source": [
    "###### Because I want to find out the most salary paid to batters, I should add salary column to batting table. And we have salaries after 1985, so we should slice batting table only for after that year. Here is the merge result:"
   ]
  },
  {
   "cell_type": "code",
   "execution_count": 107,
   "metadata": {
    "collapsed": false
   },
   "outputs": [
    {
     "data": {
      "text/html": [
       "<div>\n",
       "<table border=\"1\" class=\"dataframe\">\n",
       "  <thead>\n",
       "    <tr style=\"text-align: right;\">\n",
       "      <th></th>\n",
       "      <th>playerID</th>\n",
       "      <th>yearID</th>\n",
       "      <th>stint</th>\n",
       "      <th>teamID</th>\n",
       "      <th>lgID</th>\n",
       "      <th>G</th>\n",
       "      <th>AB</th>\n",
       "      <th>R</th>\n",
       "      <th>H</th>\n",
       "      <th>2B</th>\n",
       "      <th>3B</th>\n",
       "      <th>HR</th>\n",
       "      <th>RBI</th>\n",
       "      <th>SB</th>\n",
       "      <th>CS</th>\n",
       "      <th>BB</th>\n",
       "      <th>SO</th>\n",
       "      <th>IBB</th>\n",
       "      <th>HBP</th>\n",
       "      <th>SH</th>\n",
       "      <th>SF</th>\n",
       "      <th>GIDP</th>\n",
       "      <th>salary</th>\n",
       "    </tr>\n",
       "  </thead>\n",
       "  <tbody>\n",
       "    <tr>\n",
       "      <th>0</th>\n",
       "      <td>aasedo01</td>\n",
       "      <td>1985</td>\n",
       "      <td>1</td>\n",
       "      <td>BAL</td>\n",
       "      <td>AL</td>\n",
       "      <td>54</td>\n",
       "      <td>NaN</td>\n",
       "      <td>NaN</td>\n",
       "      <td>NaN</td>\n",
       "      <td>NaN</td>\n",
       "      <td>NaN</td>\n",
       "      <td>NaN</td>\n",
       "      <td>NaN</td>\n",
       "      <td>NaN</td>\n",
       "      <td>NaN</td>\n",
       "      <td>NaN</td>\n",
       "      <td>NaN</td>\n",
       "      <td>NaN</td>\n",
       "      <td>NaN</td>\n",
       "      <td>NaN</td>\n",
       "      <td>NaN</td>\n",
       "      <td>NaN</td>\n",
       "      <td>NaN</td>\n",
       "    </tr>\n",
       "    <tr>\n",
       "      <th>1</th>\n",
       "      <td>abregjo01</td>\n",
       "      <td>1985</td>\n",
       "      <td>1</td>\n",
       "      <td>CHN</td>\n",
       "      <td>NL</td>\n",
       "      <td>6</td>\n",
       "      <td>9.0</td>\n",
       "      <td>0.0</td>\n",
       "      <td>0.0</td>\n",
       "      <td>0.0</td>\n",
       "      <td>0.0</td>\n",
       "      <td>0.0</td>\n",
       "      <td>1.0</td>\n",
       "      <td>0.0</td>\n",
       "      <td>0.0</td>\n",
       "      <td>0.0</td>\n",
       "      <td>2.0</td>\n",
       "      <td>0.0</td>\n",
       "      <td>0.0</td>\n",
       "      <td>0.0</td>\n",
       "      <td>0.0</td>\n",
       "      <td>0.0</td>\n",
       "      <td>NaN</td>\n",
       "    </tr>\n",
       "    <tr>\n",
       "      <th>2</th>\n",
       "      <td>ackerji01</td>\n",
       "      <td>1985</td>\n",
       "      <td>1</td>\n",
       "      <td>TOR</td>\n",
       "      <td>AL</td>\n",
       "      <td>61</td>\n",
       "      <td>NaN</td>\n",
       "      <td>NaN</td>\n",
       "      <td>NaN</td>\n",
       "      <td>NaN</td>\n",
       "      <td>NaN</td>\n",
       "      <td>NaN</td>\n",
       "      <td>NaN</td>\n",
       "      <td>NaN</td>\n",
       "      <td>NaN</td>\n",
       "      <td>NaN</td>\n",
       "      <td>NaN</td>\n",
       "      <td>NaN</td>\n",
       "      <td>NaN</td>\n",
       "      <td>NaN</td>\n",
       "      <td>NaN</td>\n",
       "      <td>NaN</td>\n",
       "      <td>170000.0</td>\n",
       "    </tr>\n",
       "    <tr>\n",
       "      <th>3</th>\n",
       "      <td>adamsri02</td>\n",
       "      <td>1985</td>\n",
       "      <td>1</td>\n",
       "      <td>SFN</td>\n",
       "      <td>NL</td>\n",
       "      <td>54</td>\n",
       "      <td>121.0</td>\n",
       "      <td>12.0</td>\n",
       "      <td>23.0</td>\n",
       "      <td>3.0</td>\n",
       "      <td>1.0</td>\n",
       "      <td>2.0</td>\n",
       "      <td>10.0</td>\n",
       "      <td>1.0</td>\n",
       "      <td>1.0</td>\n",
       "      <td>5.0</td>\n",
       "      <td>23.0</td>\n",
       "      <td>3.0</td>\n",
       "      <td>1.0</td>\n",
       "      <td>3.0</td>\n",
       "      <td>0.0</td>\n",
       "      <td>2.0</td>\n",
       "      <td>NaN</td>\n",
       "    </tr>\n",
       "    <tr>\n",
       "      <th>4</th>\n",
       "      <td>agostju01</td>\n",
       "      <td>1985</td>\n",
       "      <td>1</td>\n",
       "      <td>CHA</td>\n",
       "      <td>AL</td>\n",
       "      <td>54</td>\n",
       "      <td>0.0</td>\n",
       "      <td>0.0</td>\n",
       "      <td>0.0</td>\n",
       "      <td>0.0</td>\n",
       "      <td>0.0</td>\n",
       "      <td>0.0</td>\n",
       "      <td>0.0</td>\n",
       "      <td>0.0</td>\n",
       "      <td>0.0</td>\n",
       "      <td>0.0</td>\n",
       "      <td>0.0</td>\n",
       "      <td>0.0</td>\n",
       "      <td>0.0</td>\n",
       "      <td>0.0</td>\n",
       "      <td>0.0</td>\n",
       "      <td>0.0</td>\n",
       "      <td>147500.0</td>\n",
       "    </tr>\n",
       "  </tbody>\n",
       "</table>\n",
       "</div>"
      ],
      "text/plain": [
       "    playerID  yearID  stint teamID lgID   G     AB     R     H   2B   3B   HR  \\\n",
       "0   aasedo01    1985      1    BAL   AL  54    NaN   NaN   NaN  NaN  NaN  NaN   \n",
       "1  abregjo01    1985      1    CHN   NL   6    9.0   0.0   0.0  0.0  0.0  0.0   \n",
       "2  ackerji01    1985      1    TOR   AL  61    NaN   NaN   NaN  NaN  NaN  NaN   \n",
       "3  adamsri02    1985      1    SFN   NL  54  121.0  12.0  23.0  3.0  1.0  2.0   \n",
       "4  agostju01    1985      1    CHA   AL  54    0.0   0.0   0.0  0.0  0.0  0.0   \n",
       "\n",
       "    RBI   SB   CS   BB    SO  IBB  HBP   SH   SF  GIDP    salary  \n",
       "0   NaN  NaN  NaN  NaN   NaN  NaN  NaN  NaN  NaN   NaN       NaN  \n",
       "1   1.0  0.0  0.0  0.0   2.0  0.0  0.0  0.0  0.0   0.0       NaN  \n",
       "2   NaN  NaN  NaN  NaN   NaN  NaN  NaN  NaN  NaN   NaN  170000.0  \n",
       "3  10.0  1.0  1.0  5.0  23.0  3.0  1.0  3.0  0.0   2.0       NaN  \n",
       "4   0.0  0.0  0.0  0.0   0.0  0.0  0.0  0.0  0.0   0.0  147500.0  "
      ]
     },
     "execution_count": 107,
     "metadata": {},
     "output_type": "execute_result"
    }
   ],
   "source": [
    "# slicing data on years after 1985\n",
    "batting = batting[batting['yearID'] >= 1985]\n",
    "\n",
    "# claiming keys we want two tables merge on them;\n",
    "batting_salary = batting.merge(salaries, on = ['yearID', 'playerID', 'teamID', 'lgID'], how = 'left')\n",
    "batting_salary.head()"
   ]
  },
  {
   "cell_type": "code",
   "execution_count": 108,
   "metadata": {
    "collapsed": false
   },
   "outputs": [
    {
     "data": {
      "text/plain": [
       "playerID    rodrial01\n",
       "yearID           2009\n",
       "stint               1\n",
       "teamID            NYA\n",
       "lgID               AL\n",
       "G                 124\n",
       "AB                444\n",
       "R                  78\n",
       "H                 127\n",
       "2B                 17\n",
       "3B                  1\n",
       "HR                 30\n",
       "RBI               100\n",
       "SB                 14\n",
       "CS                  2\n",
       "BB                 80\n",
       "SO                 97\n",
       "IBB                 7\n",
       "HBP                 8\n",
       "SH                  0\n",
       "SF                  3\n",
       "GIDP               13\n",
       "salary        3.3e+07\n",
       "Name: 30298, dtype: object"
      ]
     },
     "execution_count": 108,
     "metadata": {},
     "output_type": "execute_result"
    }
   ],
   "source": [
    "# looking at max Batting Salary\n",
    "max_batting_salary_index = batting_salary['salary'].argmax()\n",
    "max_batting_playerID = batting_salary['playerID'].loc[max_batting_salary_index]\n",
    "batting_salary.loc[max_batting_salary_index]"
   ]
  },
  {
   "cell_type": "markdown",
   "metadata": {},
   "source": [
    "###### First and Last name of the most paid Batter in 2015:"
   ]
  },
  {
   "cell_type": "code",
   "execution_count": 109,
   "metadata": {
    "collapsed": false
   },
   "outputs": [
    {
     "data": {
      "text/html": [
       "<div>\n",
       "<table border=\"1\" class=\"dataframe\">\n",
       "  <thead>\n",
       "    <tr style=\"text-align: right;\">\n",
       "      <th></th>\n",
       "      <th>nameFirst</th>\n",
       "      <th>nameLast</th>\n",
       "    </tr>\n",
       "  </thead>\n",
       "  <tbody>\n",
       "    <tr>\n",
       "      <th>14471</th>\n",
       "      <td>Alex</td>\n",
       "      <td>Rodriguez</td>\n",
       "    </tr>\n",
       "  </tbody>\n",
       "</table>\n",
       "</div>"
      ],
      "text/plain": [
       "      nameFirst   nameLast\n",
       "14471      Alex  Rodriguez"
      ]
     },
     "execution_count": 109,
     "metadata": {},
     "output_type": "execute_result"
    }
   ],
   "source": [
    "master[master['playerID'] == max_batting_playerID][['nameFirst', 'nameLast']]"
   ]
  },
  {
   "cell_type": "markdown",
   "metadata": {},
   "source": [
    "# 6. Key Characteristics of the Most paid Batter"
   ]
  },
  {
   "cell_type": "markdown",
   "metadata": {},
   "source": [
    "###### The same explanation for topic number 5 is reasonable for current topic. Except that I am focusing on batters now."
   ]
  },
  {
   "cell_type": "code",
   "execution_count": 110,
   "metadata": {
    "collapsed": false
   },
   "outputs": [
    {
     "data": {
      "text/html": [
       "<div>\n",
       "<table border=\"1\" class=\"dataframe\">\n",
       "  <thead>\n",
       "    <tr style=\"text-align: right;\">\n",
       "      <th></th>\n",
       "      <th>G</th>\n",
       "      <th>AB</th>\n",
       "      <th>R</th>\n",
       "      <th>H</th>\n",
       "      <th>2B</th>\n",
       "      <th>3B</th>\n",
       "      <th>HR</th>\n",
       "      <th>RBI</th>\n",
       "      <th>SB</th>\n",
       "      <th>CS</th>\n",
       "      <th>BB</th>\n",
       "      <th>SO</th>\n",
       "      <th>IBB</th>\n",
       "      <th>HBP</th>\n",
       "      <th>SH</th>\n",
       "      <th>SF</th>\n",
       "      <th>GIDP</th>\n",
       "      <th>salary</th>\n",
       "    </tr>\n",
       "  </thead>\n",
       "  <tbody>\n",
       "    <tr>\n",
       "      <th>30612</th>\n",
       "      <td>0.086796</td>\n",
       "      <td>-0.662016</td>\n",
       "      <td>-0.596057</td>\n",
       "      <td>-0.617276</td>\n",
       "      <td>-0.592739</td>\n",
       "      <td>-0.408057</td>\n",
       "      <td>-0.485738</td>\n",
       "      <td>-0.576229</td>\n",
       "      <td>-0.360255</td>\n",
       "      <td>-0.412652</td>\n",
       "      <td>-0.568931</td>\n",
       "      <td>-0.678234</td>\n",
       "      <td>-0.343577</td>\n",
       "      <td>-0.457122</td>\n",
       "      <td>-0.470932</td>\n",
       "      <td>-0.504466</td>\n",
       "      <td>-0.562007</td>\n",
       "      <td>-0.193509</td>\n",
       "    </tr>\n",
       "    <tr>\n",
       "      <th>30613</th>\n",
       "      <td>-0.603534</td>\n",
       "      <td>-0.656363</td>\n",
       "      <td>-0.596057</td>\n",
       "      <td>-0.617276</td>\n",
       "      <td>-0.592739</td>\n",
       "      <td>-0.408057</td>\n",
       "      <td>-0.485738</td>\n",
       "      <td>-0.576229</td>\n",
       "      <td>-0.360255</td>\n",
       "      <td>-0.412652</td>\n",
       "      <td>-0.568931</td>\n",
       "      <td>-0.651698</td>\n",
       "      <td>-0.343577</td>\n",
       "      <td>-0.457122</td>\n",
       "      <td>-0.470932</td>\n",
       "      <td>-0.504466</td>\n",
       "      <td>-0.562007</td>\n",
       "      <td>NaN</td>\n",
       "    </tr>\n",
       "    <tr>\n",
       "      <th>30614</th>\n",
       "      <td>2.335938</td>\n",
       "      <td>2.576999</td>\n",
       "      <td>2.998236</td>\n",
       "      <td>2.408344</td>\n",
       "      <td>3.551358</td>\n",
       "      <td>0.251160</td>\n",
       "      <td>2.472808</td>\n",
       "      <td>2.661616</td>\n",
       "      <td>3.847959</td>\n",
       "      <td>4.866385</td>\n",
       "      <td>4.189596</td>\n",
       "      <td>2.824520</td>\n",
       "      <td>1.010774</td>\n",
       "      <td>0.369077</td>\n",
       "      <td>-0.470932</td>\n",
       "      <td>2.338602</td>\n",
       "      <td>2.263373</td>\n",
       "      <td>1.073233</td>\n",
       "    </tr>\n",
       "    <tr>\n",
       "      <th>30615</th>\n",
       "      <td>0.710321</td>\n",
       "      <td>0.428961</td>\n",
       "      <td>0.057451</td>\n",
       "      <td>0.315278</td>\n",
       "      <td>0.519092</td>\n",
       "      <td>0.251160</td>\n",
       "      <td>-0.337811</td>\n",
       "      <td>-0.036588</td>\n",
       "      <td>-0.009570</td>\n",
       "      <td>0.115251</td>\n",
       "      <td>-0.350148</td>\n",
       "      <td>0.568959</td>\n",
       "      <td>-0.343577</td>\n",
       "      <td>-0.457122</td>\n",
       "      <td>-0.470932</td>\n",
       "      <td>1.769989</td>\n",
       "      <td>1.176688</td>\n",
       "      <td>-0.668385</td>\n",
       "    </tr>\n",
       "    <tr>\n",
       "      <th>30616</th>\n",
       "      <td>-0.982103</td>\n",
       "      <td>-0.662016</td>\n",
       "      <td>-0.596057</td>\n",
       "      <td>-0.617276</td>\n",
       "      <td>-0.592739</td>\n",
       "      <td>-0.408057</td>\n",
       "      <td>-0.485738</td>\n",
       "      <td>-0.576229</td>\n",
       "      <td>-0.360255</td>\n",
       "      <td>-0.412652</td>\n",
       "      <td>-0.568931</td>\n",
       "      <td>-0.678234</td>\n",
       "      <td>-0.343577</td>\n",
       "      <td>-0.457122</td>\n",
       "      <td>-0.470932</td>\n",
       "      <td>-0.504466</td>\n",
       "      <td>-0.562007</td>\n",
       "      <td>-0.531982</td>\n",
       "    </tr>\n",
       "  </tbody>\n",
       "</table>\n",
       "</div>"
      ],
      "text/plain": [
       "              G        AB         R         H        2B        3B        HR  \\\n",
       "30612  0.086796 -0.662016 -0.596057 -0.617276 -0.592739 -0.408057 -0.485738   \n",
       "30613 -0.603534 -0.656363 -0.596057 -0.617276 -0.592739 -0.408057 -0.485738   \n",
       "30614  2.335938  2.576999  2.998236  2.408344  3.551358  0.251160  2.472808   \n",
       "30615  0.710321  0.428961  0.057451  0.315278  0.519092  0.251160 -0.337811   \n",
       "30616 -0.982103 -0.662016 -0.596057 -0.617276 -0.592739 -0.408057 -0.485738   \n",
       "\n",
       "            RBI        SB        CS        BB        SO       IBB       HBP  \\\n",
       "30612 -0.576229 -0.360255 -0.412652 -0.568931 -0.678234 -0.343577 -0.457122   \n",
       "30613 -0.576229 -0.360255 -0.412652 -0.568931 -0.651698 -0.343577 -0.457122   \n",
       "30614  2.661616  3.847959  4.866385  4.189596  2.824520  1.010774  0.369077   \n",
       "30615 -0.036588 -0.009570  0.115251 -0.350148  0.568959 -0.343577 -0.457122   \n",
       "30616 -0.576229 -0.360255 -0.412652 -0.568931 -0.678234 -0.343577 -0.457122   \n",
       "\n",
       "             SH        SF      GIDP    salary  \n",
       "30612 -0.470932 -0.504466 -0.562007 -0.193509  \n",
       "30613 -0.470932 -0.504466 -0.562007       NaN  \n",
       "30614 -0.470932  2.338602  2.263373  1.073233  \n",
       "30615 -0.470932  1.769989  1.176688 -0.668385  \n",
       "30616 -0.470932 -0.504466 -0.562007 -0.531982  "
      ]
     },
     "execution_count": 110,
     "metadata": {},
     "output_type": "execute_result"
    }
   ],
   "source": [
    "batting_after_2010 = batting_salary[batting_salary['yearID'] >= 2010]\n",
    "z_value_batting = z_value_df(batting_after_2010)\n",
    "z_value_batting.head()"
   ]
  },
  {
   "cell_type": "code",
   "execution_count": 111,
   "metadata": {
    "collapsed": true
   },
   "outputs": [],
   "source": [
    "# For getting back year and player ID I need to slice the original dataframe\n",
    "year_player_batt = batting_after_2010.loc[:,['yearID', 'playerID']]\n",
    "\n",
    "# concatinating the result of z-value dataframe and year and player ID dataframe column-wise\n",
    "objs = [year_player_batt, z_value_batting]\n",
    "z_val_battinging = pd.concat(objs, axis = 1)"
   ]
  },
  {
   "cell_type": "code",
   "execution_count": 112,
   "metadata": {
    "collapsed": false
   },
   "outputs": [
    {
     "data": {
      "text/html": [
       "<div>\n",
       "<table border=\"1\" class=\"dataframe\">\n",
       "  <thead>\n",
       "    <tr style=\"text-align: right;\">\n",
       "      <th></th>\n",
       "      <th>yearID</th>\n",
       "      <th>playerID</th>\n",
       "      <th>G</th>\n",
       "      <th>AB</th>\n",
       "      <th>R</th>\n",
       "      <th>H</th>\n",
       "      <th>2B</th>\n",
       "      <th>3B</th>\n",
       "      <th>HR</th>\n",
       "      <th>RBI</th>\n",
       "      <th>SB</th>\n",
       "      <th>CS</th>\n",
       "      <th>BB</th>\n",
       "      <th>SO</th>\n",
       "      <th>IBB</th>\n",
       "      <th>HBP</th>\n",
       "      <th>SH</th>\n",
       "      <th>SF</th>\n",
       "      <th>GIDP</th>\n",
       "      <th>salary</th>\n",
       "    </tr>\n",
       "  </thead>\n",
       "  <tbody>\n",
       "    <tr>\n",
       "      <th>38761</th>\n",
       "      <td>2015</td>\n",
       "      <td>rodrial01</td>\n",
       "      <td>2.269132</td>\n",
       "      <td>2.294362</td>\n",
       "      <td>2.794015</td>\n",
       "      <td>2.097493</td>\n",
       "      <td>1.630923</td>\n",
       "      <td>0.25116</td>\n",
       "      <td>4.395863</td>\n",
       "      <td>2.993702</td>\n",
       "      <td>0.341114</td>\n",
       "      <td>-0.412652</td>\n",
       "      <td>4.025509</td>\n",
       "      <td>3.169488</td>\n",
       "      <td>1.913674</td>\n",
       "      <td>2.021473</td>\n",
       "      <td>-0.470932</td>\n",
       "      <td>3.47583</td>\n",
       "      <td>3.13272</td>\n",
       "      <td>3.708055</td>\n",
       "    </tr>\n",
       "  </tbody>\n",
       "</table>\n",
       "</div>"
      ],
      "text/plain": [
       "       yearID   playerID         G        AB         R         H        2B  \\\n",
       "38761    2015  rodrial01  2.269132  2.294362  2.794015  2.097493  1.630923   \n",
       "\n",
       "            3B        HR       RBI        SB        CS        BB        SO  \\\n",
       "38761  0.25116  4.395863  2.993702  0.341114 -0.412652  4.025509  3.169488   \n",
       "\n",
       "            IBB       HBP        SH       SF     GIDP    salary  \n",
       "38761  1.913674  2.021473 -0.470932  3.47583  3.13272  3.708055  "
      ]
     },
     "execution_count": 112,
     "metadata": {},
     "output_type": "execute_result"
    }
   ],
   "source": [
    "batt_result = z_val_battinging[(z_val_battinging['playerID'] == max_batting_playerID) & (z_val_battinging['yearID'] == 2015)]\n",
    "# I want to see all columns in the screen and avoid ellipses\n",
    "pd.set_option('display.max_columns', 100)\n",
    "batt_result"
   ]
  },
  {
   "cell_type": "markdown",
   "metadata": {},
   "source": [
    "###### Base on above Z-Scores, the most paid batter has big Z-scores on : \n",
    "### HR, RBI, BB, SO, SF, GIDP\n",
    "###### About this part and the part number 5, I should make it clear that these characteristics are not the cause of big salaries; there is only a chance of correlation between them."
   ]
  },
  {
   "cell_type": "markdown",
   "metadata": {},
   "source": [
    "# 7. Yearly Salary Trend"
   ]
  },
  {
   "cell_type": "code",
   "execution_count": 113,
   "metadata": {
    "collapsed": false
   },
   "outputs": [
    {
     "data": {
      "text/plain": [
       "<matplotlib.axes._subplots.AxesSubplot at 0xb0e1b70>"
      ]
     },
     "execution_count": 113,
     "metadata": {},
     "output_type": "execute_result"
    },
    {
     "data": {
      "image/png": "[encoded data removed]",
      "text/plain": [
       "<matplotlib.figure.Figure at 0x138b4bb0>"
      ]
     },
     "metadata": {},
     "output_type": "display_data"
    }
   ],
   "source": [
    "salaries.groupby('yearID').sum()['salary'].plot()"
   ]
  },
  {
   "cell_type": "code",
   "execution_count": 114,
   "metadata": {
    "collapsed": false
   },
   "outputs": [
    {
     "data": {
      "text/plain": [
       "yearID\n",
       "1985     261964696\n",
       "1986     307854518\n",
       "1987     272575375\n",
       "1988     300452424\n",
       "1989     359995711\n",
       "1990     443881193\n",
       "1991     613048418\n",
       "1992     805543323\n",
       "1993     901740134\n",
       "1994     927836287\n",
       "1995     951469367\n",
       "1996     956983550\n",
       "1997    1127285885\n",
       "1998    1278282871\n",
       "1999    1494228750\n",
       "2000    1666135102\n",
       "2001    1960663313\n",
       "2002    2024077522\n",
       "2003    2128262128\n",
       "2004    2070665943\n",
       "2005    2188713398\n",
       "2006    2321472617\n",
       "2007    2476688987\n",
       "2008    2684858670\n",
       "2009    2664726994\n",
       "2010    2721359865\n",
       "2011    2784505291\n",
       "2012    2932741192\n",
       "2013    3034525648\n",
       "2014    3192317623\n",
       "2015    3514142569\n",
       "Name: salary, dtype: int64"
      ]
     },
     "execution_count": 114,
     "metadata": {},
     "output_type": "execute_result"
    }
   ],
   "source": [
    "salaries.groupby('yearID').sum()['salary']"
   ]
  },
  {
   "cell_type": "code",
   "execution_count": 115,
   "metadata": {
    "collapsed": false
   },
   "outputs": [
    {
     "data": {
      "text/plain": [
       "13"
      ]
     },
     "execution_count": 115,
     "metadata": {},
     "output_type": "execute_result"
    }
   ],
   "source": [
    "salary_growth = (salaries.groupby('yearID').sum()['salary'][2015])/(salaries.groupby('yearID').sum()['salary'][1985])\n",
    "salary_growth"
   ]
  },
  {
   "cell_type": "markdown",
   "metadata": {},
   "source": [
    "###### Base on this graph we can draw the conclustion that the whole yearly payroll in the Baseball teams folded 13 times in recent 30 years."
   ]
  },
  {
   "cell_type": "markdown",
   "metadata": {},
   "source": [
    "# 8. Number of Wins Changes Over Time"
   ]
  },
  {
   "cell_type": "code",
   "execution_count": 116,
   "metadata": {
    "collapsed": false
   },
   "outputs": [
    {
     "data": {
      "text/plain": [
       "<matplotlib.axes._subplots.AxesSubplot at 0xb0e1970>"
      ]
     },
     "execution_count": 116,
     "metadata": {},
     "output_type": "execute_result"
    },
    {
     "data": {
      "image/png": "[encoded data removed]",
      "text/plain": [
       "<matplotlib.figure.Figure at 0xb0e0e90>"
      ]
     },
     "metadata": {},
     "output_type": "display_data"
    }
   ],
   "source": [
    "teams_after_85 = teams[teams['yearID']>= 1985]\n",
    "teams_after_85.groupby('yearID').sum()['W'].plot()"
   ]
  },
  {
   "cell_type": "code",
   "execution_count": 117,
   "metadata": {
    "collapsed": false
   },
   "outputs": [
    {
     "data": {
      "text/plain": [
       "yearID\n",
       "1985    2101\n",
       "1986    2102\n",
       "1987    2105\n",
       "1988    2098\n",
       "1989    2103\n",
       "1990    2105\n",
       "1991    2104\n",
       "1992    2106\n",
       "1993    2268\n",
       "1994    1599\n",
       "1995    2016\n",
       "1996    2266\n",
       "1997    2266\n",
       "1998    2430\n",
       "1999    2427\n",
       "2000    2428\n",
       "2001    2428\n",
       "2002    2425\n",
       "2003    2429\n",
       "2004    2428\n",
       "2005    2430\n",
       "2006    2429\n",
       "2007    2431\n",
       "2008    2428\n",
       "2009    2430\n",
       "2010    2430\n",
       "2011    2429\n",
       "2012    2430\n",
       "2013    2431\n",
       "2014    2430\n",
       "2015    2429\n",
       "Name: W, dtype: int64"
      ]
     },
     "execution_count": 117,
     "metadata": {},
     "output_type": "execute_result"
    }
   ],
   "source": [
    "teams_after_85.groupby('yearID').sum()['W']"
   ]
  },
  {
   "cell_type": "markdown",
   "metadata": {},
   "source": [
    "###### It means total number of wins has an absolute growth from 2100 to more than 2400; Year 1994 is an interesting year. There should be a reason for dropping total number of wins in that year."
   ]
  },
  {
   "cell_type": "markdown",
   "metadata": {},
   "source": [
    "# 9. Difference between Batters and Pitchers Salaries"
   ]
  },
  {
   "cell_type": "code",
   "execution_count": 118,
   "metadata": {
    "collapsed": false
   },
   "outputs": [
    {
     "data": {
      "text/plain": [
       "<matplotlib.legend.Legend at 0xdecb950>"
      ]
     },
     "execution_count": 118,
     "metadata": {},
     "output_type": "execute_result"
    },
    {
     "data": {
      "image/png": "[encoded data removed]",
      "text/plain": [
       "<matplotlib.figure.Figure at 0xe26b6f0>"
      ]
     },
     "metadata": {},
     "output_type": "display_data"
    }
   ],
   "source": [
    "# aggregating over years, and calculation average salary in each year.\n",
    "bat_avg_salary = batting_salary.groupby('yearID').mean()['salary']\n",
    "pitch_avg_salary = pitching_salary.groupby('yearID').mean()['salary']\n",
    "\n",
    "# Plotting these two series\n",
    "import matplotlib.patches as mpatches\n",
    "fig5 = plt.figure()\n",
    "bat_avg_salary.plot()\n",
    "pitch_avg_salary.plot()\n",
    "fig5.suptitle('Pitchers and Batters Avg. Salaries', fontsize=20)\n",
    "plt.xlabel('Years', fontsize=14)\n",
    "plt.ylabel('Avg. Salary', fontsize=14)\n",
    "blue_patch = mpatches.Patch(color='blue', label='Batters')\n",
    "green_patch = mpatches.Patch(color='green', label='Pitchers')\n",
    "plt.legend(handles=[blue_patch, green_patch], loc=4)"
   ]
  },
  {
   "cell_type": "markdown",
   "metadata": {},
   "source": [
    "###### Base on this plot, it seem like the average salary for batters are more than Pitchers. For testing this arbitrary conclusion we can calculate the ratio of these two series and look at the average ratio over years:"
   ]
  },
  {
   "cell_type": "code",
   "execution_count": 119,
   "metadata": {
    "collapsed": false
   },
   "outputs": [
    {
     "data": {
      "text/plain": [
       "1.1086679922728646"
      ]
     },
     "execution_count": 119,
     "metadata": {},
     "output_type": "execute_result"
    }
   ],
   "source": [
    "batt_to_pitch_salary = bat_avg_salary/pitch_avg_salary\n",
    "batt_to_pitch_salary.mean()"
   ]
  },
  {
   "cell_type": "markdown",
   "metadata": {},
   "source": [
    "###### The average batters salary is 11% more than average pitchers salary."
   ]
  },
  {
   "cell_type": "markdown",
   "metadata": {},
   "source": [
    "# 10. Modeling Team Wins"
   ]
  },
  {
   "cell_type": "markdown",
   "metadata": {},
   "source": [
    "###### Base on baseball rules, the winning team has more runs. So the most important criteria for modeling wins is runs. I am looking at correlation between runs and other features for teams and find out the most correlated characteristics."
   ]
  },
  {
   "cell_type": "code",
   "execution_count": 120,
   "metadata": {
    "collapsed": false
   },
   "outputs": [
    {
     "data": {
      "text/plain": [
       "R             1.000000\n",
       "H             0.801701\n",
       "2B            0.692903\n",
       "W             0.677243\n",
       "BB            0.647082\n",
       "AB            0.618912\n",
       "HA            0.594606\n",
       "ER            0.554383\n",
       "RA            0.548338\n",
       "G             0.532620\n",
       "IPouts        0.519478\n",
       "SF            0.509470\n",
       "HR            0.500400\n",
       "DP            0.474370\n",
       "BBA           0.468324\n",
       "FP            0.411579\n",
       "HRA           0.387560\n",
       "Ghome         0.353552\n",
       "ERA           0.317673\n",
       "SOA           0.307831\n",
       "SV            0.301986\n",
       "attendance    0.298650\n",
       "3B            0.252232\n",
       "SO            0.250706\n",
       "BPF           0.233560\n",
       "HBP           0.231644\n",
       "SB            0.180675\n",
       "PPF           0.049879\n",
       "L             0.028576\n",
       "SHO          -0.005953\n",
       "CS           -0.025908\n",
       "CG           -0.054133\n",
       "E            -0.131307\n",
       "Name: R, dtype: float64"
      ]
     },
     "execution_count": 120,
     "metadata": {},
     "output_type": "execute_result"
    }
   ],
   "source": [
    "teams[teams.columns[6:]].corr()['R'].sort_values(ascending = False)"
   ]
  },
  {
   "cell_type": "markdown",
   "metadata": {},
   "source": [
    "###### These numbers suggest that runs has a strong correlation with R and H; R is runs itself and it's obvious any variable has a 100% correlation with itself. H is Hits and again it's an obvious correlation; Because hits are the major cause of runs. The other correlations are not very high, so we will define some new variables and look at their correlation with runs; These new variables are:\n",
    "###### BA: Batting average\n",
    "###### OBP: On Base Percentage\n",
    "###### SLG: Sluggish Percentage"
   ]
  },
  {
   "cell_type": "code",
   "execution_count": 121,
   "metadata": {
    "collapsed": true
   },
   "outputs": [],
   "source": [
    "teams['BA'] = teams['H']/teams['AB']\n",
    "teams['OBP'] = (teams['H'] + teams['BB'] + teams['HBP']) / (teams['AB'] + teams['BB'] + teams['HBP'] + teams['SF'])\n",
    "teams['SLG'] = (teams['H'] + teams['2B'] + (2*teams['3B']) + (3*teams['HR'])) / teams['AB']"
   ]
  },
  {
   "cell_type": "markdown",
   "metadata": {},
   "source": [
    "###### calculating the correlation with runs for looking at correlation with new variables"
   ]
  },
  {
   "cell_type": "code",
   "execution_count": 122,
   "metadata": {
    "collapsed": false,
    "scrolled": true
   },
   "outputs": [
    {
     "data": {
      "text/plain": [
       "R             1.000000\n",
       "OBP           0.897286\n",
       "H             0.801701\n",
       "SLG           0.773514\n",
       "2B            0.692903\n",
       "W             0.677243\n",
       "BA            0.660676\n",
       "BB            0.647082\n",
       "AB            0.618912\n",
       "HA            0.594606\n",
       "ER            0.554383\n",
       "RA            0.548338\n",
       "G             0.532620\n",
       "IPouts        0.519478\n",
       "SF            0.509470\n",
       "HR            0.500400\n",
       "DP            0.474370\n",
       "BBA           0.468324\n",
       "FP            0.411579\n",
       "HRA           0.387560\n",
       "Ghome         0.353552\n",
       "ERA           0.317673\n",
       "SOA           0.307831\n",
       "SV            0.301986\n",
       "attendance    0.298650\n",
       "3B            0.252232\n",
       "SO            0.250706\n",
       "BPF           0.233560\n",
       "HBP           0.231644\n",
       "SB            0.180675\n",
       "PPF           0.049879\n",
       "L             0.028576\n",
       "SHO          -0.005953\n",
       "CS           -0.025908\n",
       "CG           -0.054133\n",
       "E            -0.131307\n",
       "Name: R, dtype: float64"
      ]
     },
     "execution_count": 122,
     "metadata": {},
     "output_type": "execute_result"
    }
   ],
   "source": [
    "teams[teams.columns[6:]].corr()['R'].sort_values(ascending = False)"
   ]
  },
  {
   "cell_type": "markdown",
   "metadata": {},
   "source": [
    "###### Base on these correlation numbers, we conclude that all three new variables have a high correlation with runs. Now is time for doing the modeling. I focus on linear regression and use statsmodels library in python. After several models, the best model would be the model with maximum R-squared;\n",
    "###### First I will model runs with only BA feature. Because BA was one of the most powerful predictors for runs. After this simple model, I will try several other combinations of most correlated features with runs."
   ]
  },
  {
   "cell_type": "code",
   "execution_count": 123,
   "metadata": {
    "collapsed": true
   },
   "outputs": [],
   "source": [
    "import statsmodels.formula.api as sm"
   ]
  },
  {
   "cell_type": "code",
   "execution_count": 124,
   "metadata": {
    "collapsed": false
   },
   "outputs": [],
   "source": [
    "#First Model\n",
    "runs_reg_model_1 = sm.ols(\"R~BA\",teams)\n",
    "runs_reg_1 = runs_reg_model_1.fit()\n",
    "#Second Model\n",
    "runs_reg_model_2 = sm.ols(\"R~OBP+SLG+BA\",teams)\n",
    "runs_reg_2 = runs_reg_model_2.fit()\n",
    "#Third Model\n",
    "runs_reg_model_3 = sm.ols(\"R~OBP+SLG\",teams)\n",
    "runs_reg_3 = runs_reg_model_3.fit()"
   ]
  },
  {
   "cell_type": "code",
   "execution_count": 125,
   "metadata": {
    "collapsed": false
   },
   "outputs": [
    {
     "data": {
      "text/plain": [
       "0.43649242323936921"
      ]
     },
     "execution_count": 125,
     "metadata": {},
     "output_type": "execute_result"
    }
   ],
   "source": [
    "runs_reg_1.rsquared"
   ]
  },
  {
   "cell_type": "code",
   "execution_count": 126,
   "metadata": {
    "collapsed": false
   },
   "outputs": [
    {
     "data": {
      "text/plain": [
       "0.91720734941792048"
      ]
     },
     "execution_count": 126,
     "metadata": {},
     "output_type": "execute_result"
    }
   ],
   "source": [
    "runs_reg_2.rsquared"
   ]
  },
  {
   "cell_type": "code",
   "execution_count": 127,
   "metadata": {
    "collapsed": false
   },
   "outputs": [
    {
     "data": {
      "text/plain": [
       "0.91720633065595547"
      ]
     },
     "execution_count": 127,
     "metadata": {},
     "output_type": "execute_result"
    }
   ],
   "source": [
    "runs_reg_3.rsquared"
   ]
  },
  {
   "cell_type": "markdown",
   "metadata": {},
   "source": [
    "###### Base on R-Squared, the second model is the best fit; So the runs model will have OBP, SLG and BA as features. The parametes are:"
   ]
  },
  {
   "cell_type": "code",
   "execution_count": 128,
   "metadata": {
    "collapsed": false
   },
   "outputs": [
    {
     "data": {
      "text/plain": [
       "Intercept    -864.826782\n",
       "OBP          2676.146274\n",
       "SLG          1741.782535\n",
       "BA             14.081648\n",
       "dtype: float64"
      ]
     },
     "execution_count": 128,
     "metadata": {},
     "output_type": "execute_result"
    }
   ],
   "source": [
    "runs_reg_2.params"
   ]
  },
  {
   "cell_type": "markdown",
   "metadata": {},
   "source": [
    "###### The best model for predicting runs score is:\n",
    "### R = -864.83 + 2676.15 * OBP + 1741.78 * SLG + 14.08 BA"
   ]
  },
  {
   "cell_type": "markdown",
   "metadata": {},
   "source": [
    "###### Now I want to compare the model with real data; I am adding another column to teams dataframe that contains our model for Runs: R_Modeled"
   ]
  },
  {
   "cell_type": "code",
   "execution_count": 129,
   "metadata": {
    "collapsed": false
   },
   "outputs": [],
   "source": [
    "teams['R_Modeled'] = -864.83 + teams['OBP'] * 2676.15 + teams['SLG'] * 1741.78 + teams['BA'] * 14.08"
   ]
  },
  {
   "cell_type": "markdown",
   "metadata": {},
   "source": [
    "###### I am focusing on years after 2000:"
   ]
  },
  {
   "cell_type": "code",
   "execution_count": 130,
   "metadata": {
    "collapsed": false
   },
   "outputs": [],
   "source": [
    "teams_after_2000 = teams[teams['yearID'] >= 2000]"
   ]
  },
  {
   "cell_type": "code",
   "execution_count": 131,
   "metadata": {
    "collapsed": false
   },
   "outputs": [
    {
     "data": {
      "text/plain": [
       "<matplotlib.axes._subplots.AxesSubplot at 0xb0f82b0>"
      ]
     },
     "execution_count": 131,
     "metadata": {},
     "output_type": "execute_result"
    },
    {
     "data": {
      "image/png": "[encoded data removed]",
      "text/plain": [
       "<matplotlib.figure.Figure at 0xb3d4dd0>"
      ]
     },
     "metadata": {},
     "output_type": "display_data"
    }
   ],
   "source": [
    "fig6 = plt.figure()\n",
    "teams_after_2000['R'].plot()\n",
    "teams_after_2000['R_Modeled'].plot()"
   ]
  },
  {
   "cell_type": "code",
   "execution_count": 132,
   "metadata": {
    "collapsed": false
   },
   "outputs": [
    {
     "data": {
      "text/plain": [
       "Intercept    -627.937313\n",
       "BA           5010.095953\n",
       "dtype: float64"
      ]
     },
     "execution_count": 132,
     "metadata": {},
     "output_type": "execute_result"
    }
   ],
   "source": [
    "runs_reg_1.params"
   ]
  },
  {
   "cell_type": "markdown",
   "metadata": {},
   "source": [
    "###### The other model for predicting Runs score is:\n",
    "### R = -627.94 + 5010.09 *  BA"
   ]
  },
  {
   "cell_type": "code",
   "execution_count": 135,
   "metadata": {
    "collapsed": false
   },
   "outputs": [],
   "source": [
    "teams['R_Modeled_BA'] = -627.94 + teams['BA'] * 5010.09\n",
    "teams_after_2000 = teams[teams['yearID'] >= 2000]"
   ]
  },
  {
   "cell_type": "code",
   "execution_count": 136,
   "metadata": {
    "collapsed": false
   },
   "outputs": [
    {
     "data": {
      "text/plain": [
       "<matplotlib.axes._subplots.AxesSubplot at 0xe242670>"
      ]
     },
     "execution_count": 136,
     "metadata": {},
     "output_type": "execute_result"
    },
    {
     "data": {
      "image/png": "[encoded data removed]",
      "text/plain": [
       "<matplotlib.figure.Figure at 0xda74970>"
      ]
     },
     "metadata": {},
     "output_type": "display_data"
    }
   ],
   "source": [
    "fig7 = plt.figure()\n",
    "teams_after_2000['R'].plot()\n",
    "teams_after_2000['R_Modeled_BA'].plot()"
   ]
  }
 ],
 "metadata": {
  "anaconda-cloud": {},
  "kernelspec": {
   "display_name": "Python [Root]",
   "language": "python",
   "name": "Python [Root]"
  },
  "language_info": {
   "codemirror_mode": {
    "name": "ipython",
    "version": 2
   },
   "file_extension": ".py",
   "mimetype": "text/x-python",
   "name": "python",
   "nbconvert_exporter": "python",
   "pygments_lexer": "ipython2",
   "version": "2.7.12"
  }
 },
 "nbformat": 4,
 "nbformat_minor": 0
}
